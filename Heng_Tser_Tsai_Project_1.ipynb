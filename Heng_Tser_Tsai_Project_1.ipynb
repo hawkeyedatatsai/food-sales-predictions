{
  "nbformat": 4,
  "nbformat_minor": 0,
  "metadata": {
    "colab": {
      "provenance": [],
      "authorship_tag": "ABX9TyOUPxwqnD1PTjJQvo39Qxrl",
      "include_colab_link": true
    },
    "kernelspec": {
      "name": "python3",
      "display_name": "Python 3"
    },
    "language_info": {
      "name": "python"
    }
  },
  "cells": [
    {
      "cell_type": "markdown",
      "metadata": {
        "id": "view-in-github",
        "colab_type": "text"
      },
      "source": [
        "<a href=\"https://colab.research.google.com/github/hawkeyedatatsai/food-sales-predictions/blob/main/Heng_Tser_Tsai_Project_1.ipynb\" target=\"_parent\"><img src=\"https://colab.research.google.com/assets/colab-badge.svg\" alt=\"Open In Colab\"/></a>"
      ]
    },
    {
      "cell_type": "markdown",
      "source": [
        "# **Food Sales Predictions**\n",
        "##### Heng-Tser Tsai"
      ],
      "metadata": {
        "id": "RX7pgtv5g2XI"
      }
    },
    {
      "cell_type": "code",
      "source": [],
      "metadata": {
        "id": "QYyc3ZCshOFm"
      },
      "execution_count": null,
      "outputs": []
    },
    {
      "cell_type": "markdown",
      "source": [
        "## Loading Data"
      ],
      "metadata": {
        "id": "dW-ELLiThPeG"
      }
    },
    {
      "cell_type": "code",
      "source": [],
      "metadata": {
        "id": "EzYpitnuhSm-"
      },
      "execution_count": null,
      "outputs": []
    },
    {
      "cell_type": "markdown",
      "source": [
        "## Data Cleaning\n",
        "\n"
      ],
      "metadata": {
        "id": "6Mro87CEhS4a"
      }
    },
    {
      "cell_type": "code",
      "source": [],
      "metadata": {
        "id": "4uNW9tiKhU3b"
      },
      "execution_count": null,
      "outputs": []
    },
    {
      "cell_type": "markdown",
      "source": [
        "## Exploratory Visuals"
      ],
      "metadata": {
        "id": "HSCjgYkXhVZS"
      }
    },
    {
      "cell_type": "code",
      "source": [],
      "metadata": {
        "id": "TP3OL-svhW5k"
      },
      "execution_count": null,
      "outputs": []
    },
    {
      "cell_type": "markdown",
      "source": [
        "\n",
        "## Explanatory Visuals"
      ],
      "metadata": {
        "id": "pKCaUQgehXRr"
      }
    },
    {
      "cell_type": "code",
      "source": [],
      "metadata": {
        "id": "15VBQW3thXvr"
      },
      "execution_count": null,
      "outputs": []
    }
  ]
}