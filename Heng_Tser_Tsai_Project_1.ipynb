{
  "nbformat": 4,
  "nbformat_minor": 0,
  "metadata": {
    "colab": {
      "provenance": [],
      "authorship_tag": "ABX9TyNsgPM5TyQ+JhKJb217d7Hz",
      "include_colab_link": true
    },
    "kernelspec": {
      "name": "python3",
      "display_name": "Python 3"
    },
    "language_info": {
      "name": "python"
    }
  },
  "cells": [
    {
      "cell_type": "markdown",
      "metadata": {
        "id": "view-in-github",
        "colab_type": "text"
      },
      "source": [
        "<a href=\"https://colab.research.google.com/github/hawkeyedatatsai/food-sales-predictions/blob/main/Heng_Tser_Tsai_Project_1.ipynb\" target=\"_parent\"><img src=\"https://colab.research.google.com/assets/colab-badge.svg\" alt=\"Open In Colab\"/></a>"
      ]
    },
    {
      "cell_type": "code",
      "execution_count": 11,
      "metadata": {
        "id": "vNHgyidlYk7N"
      },
      "outputs": [],
      "source": [
        "# Food Sales Predictions\n",
        "## Heng-Tser Tsai\n",
        "\n",
        "## Loading Data\n",
        "\n",
        "## Data Cleaning\n",
        "\n",
        "## Exploratory Visuals\n",
        "\n",
        "## Explanatory Visuals\"\n"
      ]
    }
  ]
}